{
 "cells": [
  {
   "cell_type": "code",
   "execution_count": 1,
   "metadata": {},
   "outputs": [],
   "source": [
    "import torch"
   ]
  },
  {
   "cell_type": "code",
   "execution_count": 4,
   "metadata": {},
   "outputs": [
    {
     "name": "stdout",
     "output_type": "stream",
     "text": [
      "tensor([[2.8026e-45, 4.5660e-41, 2.8026e-45],\n",
      "        [2.1449e+20, 1.4013e-45, 0.0000e+00],\n",
      "        [3.9236e-44, 0.0000e+00, 3.3570e+28],\n",
      "        [4.5660e-41, 1.4013e-45, 4.5660e-41],\n",
      "        [1.4013e-45, 1.9346e-19, 1.4013e-45]])\n"
     ]
    }
   ],
   "source": [
    "# 初期化されてないある次元のTensorを作成する\n",
    "# (1次元の要素数, ２次元の要素数, .....)\n",
    "x = torch.empty(5,3)\n",
    "print(x)"
   ]
  },
  {
   "cell_type": "code",
   "execution_count": 6,
   "metadata": {},
   "outputs": [
    {
     "name": "stdout",
     "output_type": "stream",
     "text": [
      "tensor([[0.5456, 0.6568, 0.0102],\n",
      "        [0.6545, 0.5081, 0.2129],\n",
      "        [0.9283, 0.1992, 0.5302],\n",
      "        [0.5121, 0.0334, 0.6027],\n",
      "        [0.0755, 0.4262, 0.0842]])\n"
     ]
    }
   ],
   "source": [
    "x = torch.rand(5,3)\n",
    "print(x)"
   ]
  },
  {
   "cell_type": "code",
   "execution_count": 7,
   "metadata": {},
   "outputs": [
    {
     "name": "stdout",
     "output_type": "stream",
     "text": [
      "tensor([[0, 0, 0],\n",
      "        [0, 0, 0],\n",
      "        [0, 0, 0],\n",
      "        [0, 0, 0],\n",
      "        [0, 0, 0]])\n"
     ]
    }
   ],
   "source": [
    "x = torch.zeros(5,3, dtype=torch.long)\n",
    "print(x)"
   ]
  },
  {
   "cell_type": "code",
   "execution_count": 8,
   "metadata": {},
   "outputs": [
    {
     "name": "stdout",
     "output_type": "stream",
     "text": [
      "tensor([5.5000, 3.0000])\n"
     ]
    }
   ],
   "source": [
    "x = torch.tensor([5.5, 3])\n",
    "print(x)"
   ]
  },
  {
   "cell_type": "code",
   "execution_count": 10,
   "metadata": {},
   "outputs": [
    {
     "name": "stdout",
     "output_type": "stream",
     "text": [
      "tensor([[1., 1., 1.],\n",
      "        [1., 1., 1.],\n",
      "        [1., 1., 1.],\n",
      "        [1., 1., 1.],\n",
      "        [1., 1., 1.]], dtype=torch.float64)\n",
      "tensor([[ 0.0419,  0.1357,  0.2533],\n",
      "        [-1.8527,  0.6582,  1.0350],\n",
      "        [ 0.7579,  0.7028, -0.7452],\n",
      "        [ 0.6382,  0.4235, -1.3473],\n",
      "        [-0.4702, -1.0031,  1.3611]])\n"
     ]
    }
   ],
   "source": [
    "x = x.new_ones(5,3, dtype=torch.double)\n",
    "print(x)\n",
    "\n",
    "x = torch.randn_like(x, dtype=torch.float)\n",
    "print(x)"
   ]
  },
  {
   "cell_type": "code",
   "execution_count": 11,
   "metadata": {},
   "outputs": [
    {
     "name": "stdout",
     "output_type": "stream",
     "text": [
      "torch.Size([5, 3])\n"
     ]
    }
   ],
   "source": [
    "print(x.size())"
   ]
  },
  {
   "cell_type": "code",
   "execution_count": 12,
   "metadata": {},
   "outputs": [],
   "source": [
    "y = torch.rand(5, 3)"
   ]
  },
  {
   "cell_type": "code",
   "execution_count": 13,
   "metadata": {},
   "outputs": [
    {
     "name": "stdout",
     "output_type": "stream",
     "text": [
      "tensor([[ 0.3296,  0.6842,  1.2496],\n",
      "        [-1.8265,  0.7894,  1.8707],\n",
      "        [ 1.2442,  1.5899, -0.5123],\n",
      "        [ 0.7679,  0.6777, -0.9205],\n",
      "        [-0.3414, -0.5488,  2.2513]])\n"
     ]
    }
   ],
   "source": [
    "# Tensorの足し方は２通り\n",
    "print(x+y)"
   ]
  },
  {
   "cell_type": "code",
   "execution_count": 14,
   "metadata": {},
   "outputs": [
    {
     "name": "stdout",
     "output_type": "stream",
     "text": [
      "tensor([[ 0.3296,  0.6842,  1.2496],\n",
      "        [-1.8265,  0.7894,  1.8707],\n",
      "        [ 1.2442,  1.5899, -0.5123],\n",
      "        [ 0.7679,  0.6777, -0.9205],\n",
      "        [-0.3414, -0.5488,  2.2513]])\n"
     ]
    }
   ],
   "source": [
    "print(torch.add(x, y))"
   ]
  },
  {
   "cell_type": "code",
   "execution_count": 17,
   "metadata": {},
   "outputs": [
    {
     "name": "stdout",
     "output_type": "stream",
     "text": [
      "tensor([[ 0.3296,  0.6842,  1.2496],\n",
      "        [-1.8265,  0.7894,  1.8707],\n",
      "        [ 1.2442,  1.5899, -0.5123],\n",
      "        [ 0.7679,  0.6777, -0.9205],\n",
      "        [-0.3414, -0.5488,  2.2513]])\n"
     ]
    }
   ],
   "source": [
    "# outで出力先のTensorを上書き\n",
    "result = torch.empty(5, 3)\n",
    "torch.add(x, y, out=result)\n",
    "print(result)"
   ]
  },
  {
   "cell_type": "code",
   "execution_count": 18,
   "metadata": {},
   "outputs": [
    {
     "name": "stdout",
     "output_type": "stream",
     "text": [
      "tensor([[ 0.3296,  0.6842,  1.2496],\n",
      "        [-1.8265,  0.7894,  1.8707],\n",
      "        [ 1.2442,  1.5899, -0.5123],\n",
      "        [ 0.7679,  0.6777, -0.9205],\n",
      "        [-0.3414, -0.5488,  2.2513]])\n"
     ]
    }
   ],
   "source": [
    "# add_で足した上で一方の変数に上書き\n",
    "y.add_(x)\n",
    "print(y)"
   ]
  },
  {
   "cell_type": "code",
   "execution_count": 19,
   "metadata": {},
   "outputs": [
    {
     "name": "stdout",
     "output_type": "stream",
     "text": [
      "tensor([ 0.1357,  0.6582,  0.7028,  0.4235, -1.0031])\n"
     ]
    }
   ],
   "source": [
    "# numpyのスライスは同様に使用可能 \n",
    "print(x[:, 1])"
   ]
  },
  {
   "cell_type": "code",
   "execution_count": 29,
   "metadata": {},
   "outputs": [],
   "source": [
    "# 4x4のtensor次元を作成\n",
    "x = torch.randn(4, 4)"
   ]
  },
  {
   "cell_type": "code",
   "execution_count": 30,
   "metadata": {},
   "outputs": [
    {
     "name": "stdout",
     "output_type": "stream",
     "text": [
      "tensor([[ 0.0872, -0.7700, -1.2317,  0.4599],\n",
      "        [ 1.4660, -0.8161, -1.2043,  0.9040],\n",
      "        [-0.0286, -1.1410, -0.1573,  0.4124],\n",
      "        [ 0.1313,  1.6486, -0.0080, -0.5545]])\n"
     ]
    }
   ],
   "source": [
    "print(x)"
   ]
  },
  {
   "cell_type": "code",
   "execution_count": 31,
   "metadata": {},
   "outputs": [
    {
     "name": "stdout",
     "output_type": "stream",
     "text": [
      "tensor([ 0.0872, -0.7700, -1.2317,  0.4599,  1.4660, -0.8161, -1.2043,  0.9040,\n",
      "        -0.0286, -1.1410, -0.1573,  0.4124,  0.1313,  1.6486, -0.0080, -0.5545]) torch.Size([16])\n"
     ]
    }
   ],
   "source": [
    "# view関数で次元数を変更\n",
    "# １次元の配列に変更\n",
    "# 要素数が足りないとエラーが出る(自動で補完をしてくれない)\n",
    "y = x.view(16)\n",
    "print(y, y.size())"
   ]
  },
  {
   "cell_type": "code",
   "execution_count": 32,
   "metadata": {},
   "outputs": [
    {
     "name": "stdout",
     "output_type": "stream",
     "text": [
      "tensor([[ 0.0872, -0.7700, -1.2317,  0.4599,  1.4660, -0.8161, -1.2043,  0.9040],\n",
      "        [-0.0286, -1.1410, -0.1573,  0.4124,  0.1313,  1.6486, -0.0080, -0.5545]]) torch.Size([2, 8])\n"
     ]
    }
   ],
   "source": [
    "# -1で次元数を減らすことができる\n",
    "# 一つ減るのではなく，(-1, x)のxの値に適した形に変換\n",
    "z = x.view(-1, 8)\n",
    "print(z, z.size())"
   ]
  },
  {
   "cell_type": "code",
   "execution_count": 33,
   "metadata": {},
   "outputs": [
    {
     "name": "stdout",
     "output_type": "stream",
     "text": [
      "tensor([0.3309])\n",
      "0.33085983991622925\n"
     ]
    }
   ],
   "source": [
    "# item()によって通常の値として取得できる(intやdouble, float型？)\n",
    "x = torch.randn(1)\n",
    "print(x)\n",
    "print(x.item())"
   ]
  },
  {
   "cell_type": "code",
   "execution_count": 36,
   "metadata": {},
   "outputs": [
    {
     "name": "stdout",
     "output_type": "stream",
     "text": [
      "tensor([1., 1., 1., 1., 1.])\n",
      "[1. 1. 1. 1. 1.]\n"
     ]
    }
   ],
   "source": [
    "# TensorからNumPyへの変換\n",
    "# メモリを共有するため，一方を変更するともう一方も変更される\n",
    "a = torch.ones(5)\n",
    "print(a)\n",
    "b = a.numpy()\n",
    "print(b)"
   ]
  },
  {
   "cell_type": "code",
   "execution_count": 37,
   "metadata": {},
   "outputs": [
    {
     "name": "stdout",
     "output_type": "stream",
     "text": [
      "tensor([2., 2., 2., 2., 2.])\n",
      "[2. 2. 2. 2. 2.]\n"
     ]
    }
   ],
   "source": [
    "a.add_(1)\n",
    "print(a)\n",
    "print(b)"
   ]
  },
  {
   "cell_type": "code",
   "execution_count": 40,
   "metadata": {},
   "outputs": [
    {
     "name": "stdout",
     "output_type": "stream",
     "text": [
      "[1. 1. 1. 1. 1.]\n",
      "[2. 2. 2. 2. 2.]\n",
      "tensor([2., 2., 2., 2., 2.], dtype=torch.float64)\n"
     ]
    }
   ],
   "source": [
    "# numpy から Tensorへの変換\n",
    "import numpy as np\n",
    "a = np.ones(5)\n",
    "print(a)\n",
    "b = torch.from_numpy(a)\n",
    "np.add(a, 1, out=a)\n",
    "print(a)\n",
    "print(b)"
   ]
  },
  {
   "cell_type": "code",
   "execution_count": 41,
   "metadata": {},
   "outputs": [
    {
     "name": "stdout",
     "output_type": "stream",
     "text": [
      "tensor([1.3309], device='cuda:0')\n",
      "tensor([1.3309], dtype=torch.float64)\n"
     ]
    }
   ],
   "source": [
    "if torch.cuda.is_available():\n",
    "    device = torch.device(\"cuda\")\n",
    "    y = torch.ones_like(x, device=device)\n",
    "    x = x.to(device)\n",
    "    z = x + y\n",
    "    print(z)\n",
    "    print(z.to(\"cpu\", torch.double))"
   ]
  },
  {
   "cell_type": "code",
   "execution_count": null,
   "metadata": {},
   "outputs": [],
   "source": []
  }
 ],
 "metadata": {
  "kernelspec": {
   "display_name": "Python 3",
   "language": "python",
   "name": "python3"
  },
  "language_info": {
   "codemirror_mode": {
    "name": "ipython",
    "version": 3
   },
   "file_extension": ".py",
   "mimetype": "text/x-python",
   "name": "python",
   "nbconvert_exporter": "python",
   "pygments_lexer": "ipython3",
   "version": "3.7.4"
  }
 },
 "nbformat": 4,
 "nbformat_minor": 2
}
